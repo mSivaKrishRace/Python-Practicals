{
 "cells": [
  {
   "cell_type": "markdown",
   "metadata": {},
   "source": [
    "# Gates implementation using Perceptron"
   ]
  },
  {
   "cell_type": "markdown",
   "metadata": {},
   "source": [
    "Perceptron :\n",
    "    - is an algorithm used for supervised learning of binary classifiers. Binary classifiers decide whether an input, usually represented by a series of vectors, belongs to a specific class. In short, a perceptron is a single-layer neural network"
   ]
  },
  {
   "cell_type": "code",
   "execution_count": 1,
   "metadata": {},
   "outputs": [],
   "source": [
    "# import required libraries\n",
    "import numpy as np\n",
    "import random"
   ]
  },
  {
   "cell_type": "markdown",
   "metadata": {},
   "source": [
    "### Weight initailization"
   ]
  },
  {
   "cell_type": "code",
   "execution_count": 2,
   "metadata": {},
   "outputs": [],
   "source": [
    "# Function for initializing Random Weights\n",
    "def init_weights():\n",
    "    W = np.random.rand(1,2)\n",
    "    b = 0\n",
    "    return(W, b)"
   ]
  },
  {
   "cell_type": "markdown",
   "metadata": {},
   "source": [
    "### Step function"
   ]
  },
  {
   "cell_type": "code",
   "execution_count": 3,
   "metadata": {},
   "outputs": [],
   "source": [
    "# considering threshold value\n",
    "def step(z):\n",
    "    return(1*(z > 0.5))"
   ]
  },
  {
   "cell_type": "markdown",
   "metadata": {},
   "source": [
    "### Forward Propagation"
   ]
  },
  {
   "cell_type": "code",
   "execution_count": 4,
   "metadata": {},
   "outputs": [],
   "source": [
    "def propagation(W,b, X, Y):\n",
    "    A = step(np.dot(X,W.T) + b) # A is my predictions vector\n",
    "    Error = Y - A\n",
    "    return(Error)"
   ]
  },
  {
   "cell_type": "markdown",
   "metadata": {},
   "source": [
    "## Optimization"
   ]
  },
  {
   "cell_type": "code",
   "execution_count": 5,
   "metadata": {},
   "outputs": [],
   "source": [
    "# back propogation\n",
    "def Optimize(W, b, X, Y, num_iterations, learn_rate):\n",
    "    for i in range(num_iterations):\n",
    "        Error = propagation(W, b, X, Y) # Cost function \n",
    "        print(\"Error is {} for iteration {}\".format(np.mean(Error),i+1))\n",
    "        \n",
    "        W  =W + np.multiply(learn_rate, np.dot(Error.T, X))\n",
    "        b = b + np.multiply(learn_rate, np.mean(Error))\n",
    "    params = {\"W\" : W, \"b\" : b}\n",
    "    return(params)"
   ]
  },
  {
   "cell_type": "markdown",
   "metadata": {},
   "source": [
    "### Building Perceptron Model"
   ]
  },
  {
   "cell_type": "code",
   "execution_count": 6,
   "metadata": {},
   "outputs": [],
   "source": [
    "# learning reate --- movements to reduce the Error\n",
    "def Perc_model(X, Y, num_iterations, learn_rate):\n",
    "    W, b = init_weights()\n",
    "    print(\"Initial W is {} for b is {}\".format(W,b))\n",
    "    params = Optimize(W, b, X, Y, num_iterations, learn_rate)\n",
    "    print(\"Final updated W and b are:\")\n",
    "    print(\"W is \", params[\"W\"])\n",
    "    print(\"b is \", params[\"b\"])\n",
    "    return(params)"
   ]
  },
  {
   "cell_type": "code",
   "execution_count": 7,
   "metadata": {},
   "outputs": [],
   "source": [
    "def validation(X, params):\n",
    "    W = params[\"W\"]\n",
    "    b = params[\"b\"]\n",
    "    A = step(np.dot(X, W.T) + b)\n",
    "    return(A)"
   ]
  },
  {
   "cell_type": "markdown",
   "metadata": {},
   "source": [
    "## \"OR\" gate Implementation"
   ]
  },
  {
   "cell_type": "code",
   "execution_count": 8,
   "metadata": {},
   "outputs": [],
   "source": [
    "# Visualizaing the OR gate\n",
    "from IPython.display import Image, display"
   ]
  },
  {
   "cell_type": "code",
   "execution_count": 9,
   "metadata": {},
   "outputs": [
    {
     "data": {
      "text/plain": [
       "'C:\\\\Users\\\\pycoder\\\\21_All_Python\\\\21_ADataScience-Training'"
      ]
     },
     "execution_count": 9,
     "metadata": {},
     "output_type": "execute_result"
    }
   ],
   "source": [
    "%pwd"
   ]
  },
  {
   "cell_type": "code",
   "execution_count": 10,
   "metadata": {},
   "outputs": [],
   "source": [
    "# load the Image folder path\n",
    "root_path = \"C:/Users/pycoder/21_All_Python/21_ADataScience-Training/Image/\""
   ]
  },
  {
   "cell_type": "code",
   "execution_count": 11,
   "metadata": {},
   "outputs": [
    {
     "data": {
      "image/png": "[encoded data removed]",
      "text/plain": [
       "<IPython.core.display.Image object>"
      ]
     },
     "metadata": {},
     "output_type": "display_data"
    }
   ],
   "source": [
    "display(Image(filename=root_path+'OR.png', embed= True))"
   ]
  },
  {
   "cell_type": "markdown",
   "metadata": {},
   "source": [
    "### Initialize the Input & Output values e.t.c"
   ]
  },
  {
   "cell_type": "code",
   "execution_count": 12,
   "metadata": {},
   "outputs": [],
   "source": [
    "# assigning values to Input Vector\n",
    "X = np.array([[0,0], [0,1], [1, 0], [1, 1]])\n",
    "# Assigning output values\n",
    "Y_OR = np.array([0, 1, 1, 1]).reshape((4,1))\n",
    "# intializing learning rate\n",
    "learn_rate  = 0.2 \n",
    "# Number of iterations to run the perceptron model\n",
    "No_of_Iters = 10"
   ]
  },
  {
   "cell_type": "markdown",
   "metadata": {},
   "source": [
    "## Running model"
   ]
  },
  {
   "cell_type": "code",
   "execution_count": 13,
   "metadata": {},
   "outputs": [
    {
     "name": "stdout",
     "output_type": "stream",
     "text": [
      "Initial W is [[0.89009198 0.01577608]] for b is 0\n",
      "Error is 0.25 for iteration 1\n",
      "Error is 0.25 for iteration 2\n",
      "Error is 0.0 for iteration 3\n",
      "Error is 0.0 for iteration 4\n",
      "Error is 0.0 for iteration 5\n",
      "Error is 0.0 for iteration 6\n",
      "Error is 0.0 for iteration 7\n",
      "Error is 0.0 for iteration 8\n",
      "Error is 0.0 for iteration 9\n",
      "Error is 0.0 for iteration 10\n",
      "Final updated W and b are:\n",
      "W is  [[0.89009198 0.41577608]]\n",
      "b is  0.1\n",
      " X is input [[0 0]\n",
      " [0 1]\n",
      " [1 0]\n",
      " [1 1]] \n",
      " corresponding Y as output [[0]\n",
      " [1]\n",
      " [1]\n",
      " [1]]\n"
     ]
    }
   ],
   "source": [
    "params = Perc_model(X, Y_OR, num_iterations= No_of_Iters, learn_rate= learn_rate)\n",
    "print(\" X is input {} \\n corresponding Y as output {}\".format(X, step(validation(X,params))))\n"
   ]
  },
  {
   "cell_type": "code",
   "execution_count": 14,
   "metadata": {},
   "outputs": [
    {
     "name": "stdout",
     "output_type": "stream",
     "text": [
      "Accuracy is 100.0\n"
     ]
    }
   ],
   "source": [
    "\n",
    "### Validating \n",
    "predictions = validation(X, params)\n",
    "Accuracy = np.mean(Y_OR == predictions)\n",
    "print(\"Accuracy is {}\".format(Accuracy*100))"
   ]
  },
  {
   "cell_type": "markdown",
   "metadata": {},
   "source": [
    "# AND gate Implementation "
   ]
  },
  {
   "cell_type": "code",
   "execution_count": 17,
   "metadata": {},
   "outputs": [],
   "source": [
    "Y_AND = np.array([0,0,0,1]).reshape(4,1)"
   ]
  },
  {
   "cell_type": "code",
   "execution_count": 19,
   "metadata": {},
   "outputs": [
    {
     "name": "stdout",
     "output_type": "stream",
     "text": [
      "Initial W is [[0.33499608 0.22188173]] for b is 0\n",
      "Error is 0.0 for iteration 1\n",
      "Error is 0.0 for iteration 2\n",
      "Error is 0.0 for iteration 3\n",
      "Error is 0.0 for iteration 4\n",
      "Error is 0.0 for iteration 5\n",
      "Error is 0.0 for iteration 6\n",
      "Error is 0.0 for iteration 7\n",
      "Error is 0.0 for iteration 8\n",
      "Error is 0.0 for iteration 9\n",
      "Error is 0.0 for iteration 10\n",
      "Final updated W and b are:\n",
      "W is  [[0.33499608 0.22188173]]\n",
      "b is  0.0\n",
      "X input [[0 0]\n",
      " [0 1]\n",
      " [1 0]\n",
      " [1 1]] and corresponding Output Y_AND is [[0]\n",
      " [1]\n",
      " [1]\n",
      " [1]]\n"
     ]
    }
   ],
   "source": [
    "preds_AND = Perc_model(X = X, Y=Y_AND,num_iterations= No_of_Iters, learn_rate=learn_rate)\n",
    "print(\"X input {} and corresponding Output Y_AND is {}\".format(X, step(validation(X, params))))"
   ]
  },
  {
   "cell_type": "code",
   "execution_count": 20,
   "metadata": {},
   "outputs": [],
   "source": [
    "learn_rate  = 0.01"
   ]
  },
  {
   "cell_type": "code",
   "execution_count": 21,
   "metadata": {},
   "outputs": [
    {
     "name": "stdout",
     "output_type": "stream",
     "text": [
      "Initial W is [[0.78707159 0.73654219]] for b is 0\n",
      "Error is -0.5 for iteration 1\n",
      "Error is -0.5 for iteration 2\n",
      "Error is -0.5 for iteration 3\n",
      "Error is -0.5 for iteration 4\n",
      "Error is -0.5 for iteration 5\n",
      "Error is -0.5 for iteration 6\n",
      "Error is -0.5 for iteration 7\n",
      "Error is -0.5 for iteration 8\n",
      "Error is -0.5 for iteration 9\n",
      "Error is -0.5 for iteration 10\n",
      "Final updated W and b are:\n",
      "W is  [[0.77707159 0.72654219]]\n",
      "b is  -0.005000000000000001\n",
      "X is [[0 0]\n",
      " [0 1]\n",
      " [1 0]\n",
      " [1 1]] and my Y_AND is [[0]\n",
      " [1]\n",
      " [1]\n",
      " [1]]\n"
     ]
    }
   ],
   "source": [
    "params = Perc_model(X=X, Y=Y_AND, num_iterations=No_of_Iters,learn_rate=0.001)\n",
    "print(\"X is {} and my Y_AND is {}\".format(X, step(validation(X, params))))"
   ]
  },
  {
   "cell_type": "markdown",
   "metadata": {},
   "source": [
    "# X_OR gate"
   ]
  },
  {
   "cell_type": "code",
   "execution_count": 23,
   "metadata": {},
   "outputs": [],
   "source": [
    "Y_xor = np.array([0,1,1,0]).reshape(4,1)"
   ]
  },
  {
   "cell_type": "code",
   "execution_count": 25,
   "metadata": {},
   "outputs": [
    {
     "name": "stdout",
     "output_type": "stream",
     "text": [
      "Initial W is [[0.73526527 0.24452025]] for b is 0\n",
      "Error is 0.0 for iteration 1\n",
      "Error is 0.0 for iteration 2\n",
      "Error is 0.0 for iteration 3\n",
      "Error is 0.0 for iteration 4\n",
      "Error is 0.0 for iteration 5\n",
      "Error is 0.0 for iteration 6\n",
      "Error is 0.0 for iteration 7\n",
      "Error is 0.0 for iteration 8\n",
      "Error is 0.0 for iteration 9\n",
      "Error is 0.0 for iteration 10\n",
      "Final updated W and b are:\n",
      "W is  [[0.63526527 0.24452025]]\n",
      "b is  0.0\n",
      "X is [[0 0]\n",
      " [0 1]\n",
      " [1 0]\n",
      " [1 1]] & Y_xor is [[0]\n",
      " [1]\n",
      " [1]\n",
      " [1]]\n"
     ]
    }
   ],
   "source": [
    "prams_xor = Perc_model(X=X, Y= Y_xor, num_iterations=No_of_Iters,learn_rate=learn_rate)\n",
    "print(\"X is {} & Y_xor is {}\".format(X, step(validation(X, params))))"
   ]
  },
  {
   "cell_type": "code",
   "execution_count": null,
   "metadata": {},
   "outputs": [],
   "source": []
  }
 ],
 "metadata": {
  "kernelspec": {
   "display_name": "Python 3",
   "language": "python",
   "name": "python3"
  },
  "language_info": {
   "codemirror_mode": {
    "name": "ipython",
    "version": 3
   },
   "file_extension": ".py",
   "mimetype": "text/x-python",
   "name": "python",
   "nbconvert_exporter": "python",
   "pygments_lexer": "ipython3",
   "version": "3.6.5"
  }
 },
 "nbformat": 4,
 "nbformat_minor": 2
}
