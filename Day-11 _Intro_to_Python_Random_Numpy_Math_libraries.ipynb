{
 "cells": [
  {
   "cell_type": "markdown",
   "metadata": {},
   "source": [
    "# introduction to Python "
   ]
  },
  {
   "cell_type": "markdown",
   "metadata": {},
   "source": [
    "## Data Types"
   ]
  },
  {
   "cell_type": "code",
   "execution_count": 1,
   "metadata": {},
   "outputs": [],
   "source": [
    "a = 10\n",
    "b = 20"
   ]
  },
  {
   "cell_type": "code",
   "execution_count": 2,
   "metadata": {},
   "outputs": [
    {
     "data": {
      "text/plain": [
       "int"
      ]
     },
     "execution_count": 2,
     "metadata": {},
     "output_type": "execute_result"
    }
   ],
   "source": [
    "type(a)"
   ]
  },
  {
   "cell_type": "code",
   "execution_count": 3,
   "metadata": {},
   "outputs": [
    {
     "data": {
      "text/plain": [
       "str"
      ]
     },
     "execution_count": 3,
     "metadata": {},
     "output_type": "execute_result"
    }
   ],
   "source": [
    "type('25')"
   ]
  },
  {
   "cell_type": "code",
   "execution_count": 4,
   "metadata": {},
   "outputs": [
    {
     "data": {
      "text/plain": [
       "int"
      ]
     },
     "execution_count": 4,
     "metadata": {},
     "output_type": "execute_result"
    }
   ],
   "source": [
    "type(45)"
   ]
  },
  {
   "cell_type": "code",
   "execution_count": 5,
   "metadata": {},
   "outputs": [
    {
     "data": {
      "text/plain": [
       "float"
      ]
     },
     "execution_count": 5,
     "metadata": {},
     "output_type": "execute_result"
    }
   ],
   "source": [
    "type(3.1445)"
   ]
  },
  {
   "cell_type": "markdown",
   "metadata": {},
   "source": [
    "## import the library"
   ]
  },
  {
   "cell_type": "code",
   "execution_count": 6,
   "metadata": {},
   "outputs": [],
   "source": [
    "import math as mth"
   ]
  },
  {
   "cell_type": "code",
   "execution_count": 7,
   "metadata": {},
   "outputs": [
    {
     "name": "stdout",
     "output_type": "stream",
     "text": [
      "5\n",
      "4\n",
      "120\n",
      "10\n"
     ]
    }
   ],
   "source": [
    "x = 4.5\n",
    "y = 5\n",
    "\n",
    "p  = 250\n",
    "q = 310\n",
    "\n",
    "print(mth.ceil(x))\n",
    "print(mth.floor(x))\n",
    "print(mth.factorial(5))\n",
    "print(mth.gcd(a,b))"
   ]
  },
  {
   "cell_type": "markdown",
   "metadata": {},
   "source": [
    "# String Operations in Python\n",
    "    1. Capitalize\n",
    "    2. Uppercase\n",
    "    3. Lowercase\n",
    "    4. Replace\n",
    "    "
   ]
  },
  {
   "cell_type": "code",
   "execution_count": 9,
   "metadata": {},
   "outputs": [
    {
     "name": "stdout",
     "output_type": "stream",
     "text": [
      "Before capitalizing: this is DATA SCIENCE class : welcome all\n",
      "After Capitalizing: This is data science class : welcome all\n"
     ]
    }
   ],
   "source": [
    "My_class = \"this is DATA SCIENCE class : welcome all\"\n",
    "\n",
    "print(\"Before capitalizing:\", My_class)\n",
    "print(\"After Capitalizing:\", My_class.capitalize())\n"
   ]
  },
  {
   "cell_type": "code",
   "execution_count": 10,
   "metadata": {},
   "outputs": [
    {
     "name": "stdout",
     "output_type": "stream",
     "text": [
      "After converting into Uppercase: THIS IS DATA SCIENCE CLASS : WELCOME ALL\n"
     ]
    }
   ],
   "source": [
    "print(\"After converting into Uppercase:\",My_class.upper())"
   ]
  },
  {
   "cell_type": "code",
   "execution_count": 11,
   "metadata": {},
   "outputs": [],
   "source": [
    "My_Upper_Class = My_class.upper()"
   ]
  },
  {
   "cell_type": "code",
   "execution_count": 12,
   "metadata": {},
   "outputs": [
    {
     "data": {
      "text/plain": [
       "'THIS IS DATA SCIENCE CLASS : WELCOME ALL'"
      ]
     },
     "execution_count": 12,
     "metadata": {},
     "output_type": "execute_result"
    }
   ],
   "source": [
    "My_Upper_Class"
   ]
  },
  {
   "cell_type": "code",
   "execution_count": 13,
   "metadata": {},
   "outputs": [],
   "source": [
    "My_lower_Class = My_Upper_Class.lower()"
   ]
  },
  {
   "cell_type": "code",
   "execution_count": 15,
   "metadata": {},
   "outputs": [
    {
     "name": "stdout",
     "output_type": "stream",
     "text": [
      "this is data science class : welcome all\n"
     ]
    }
   ],
   "source": [
    "print(My_lower_Class)"
   ]
  },
  {
   "cell_type": "code",
   "execution_count": 16,
   "metadata": {},
   "outputs": [
    {
     "data": {
      "text/plain": [
       "'THIS IS DATA Artificail Intelligence CLASS : WELCOME ALL'"
      ]
     },
     "execution_count": 16,
     "metadata": {},
     "output_type": "execute_result"
    }
   ],
   "source": [
    "My_Upper_Class.replace('SCIENCE','Artificail Intelligence')"
   ]
  },
  {
   "cell_type": "code",
   "execution_count": 17,
   "metadata": {},
   "outputs": [
    {
     "data": {
      "text/plain": [
       "'THIS IS DATA SCIENCE CLASS : WELCOME ALL'"
      ]
     },
     "execution_count": 17,
     "metadata": {},
     "output_type": "execute_result"
    }
   ],
   "source": [
    "My_Upper_Class.replace('data','AI')"
   ]
  },
  {
   "cell_type": "code",
   "execution_count": 18,
   "metadata": {},
   "outputs": [],
   "source": [
    "My_Upper_Class = My_Upper_Class.replace('SCIENCE','Artificail Intelligence')"
   ]
  },
  {
   "cell_type": "code",
   "execution_count": 19,
   "metadata": {},
   "outputs": [
    {
     "data": {
      "text/plain": [
       "'THIS IS DATA Artificail Intelligence CLASS : WELCOME ALL'"
      ]
     },
     "execution_count": 19,
     "metadata": {},
     "output_type": "execute_result"
    }
   ],
   "source": [
    "My_Upper_Class"
   ]
  },
  {
   "cell_type": "code",
   "execution_count": 20,
   "metadata": {},
   "outputs": [
    {
     "name": "stdout",
     "output_type": "stream",
     "text": [
      "THIS IS DATA Artificail Intelligence CLASS : WELCOME ALLthis is data science class : welcome all\n"
     ]
    }
   ],
   "source": [
    "print(My_Upper_Class + My_lower_Class)"
   ]
  },
  {
   "cell_type": "markdown",
   "metadata": {},
   "source": [
    "# Numpy & random library"
   ]
  },
  {
   "cell_type": "code",
   "execution_count": 21,
   "metadata": {},
   "outputs": [],
   "source": [
    "# import library\n",
    "import numpy as np\n",
    "import random"
   ]
  },
  {
   "cell_type": "code",
   "execution_count": 23,
   "metadata": {},
   "outputs": [
    {
     "name": "stdout",
     "output_type": "stream",
     "text": [
      "[0.52480512]\n",
      "(1,)\n",
      "1\n",
      " \n"
     ]
    }
   ],
   "source": [
    "num = np.random.rand(1) # 1-Dimensional\n",
    "\n",
    "print(num)\n",
    "print(num.shape)\n",
    "print(num.ndim)\n",
    "print(\" \")"
   ]
  },
  {
   "cell_type": "code",
   "execution_count": 24,
   "metadata": {},
   "outputs": [
    {
     "name": "stdout",
     "output_type": "stream",
     "text": [
      "[0.52903689 0.27135472 0.70032981 0.32962737]\n",
      "(4,)\n",
      "1\n"
     ]
    }
   ],
   "source": [
    "num_2 = np.random.rand(4)\n",
    "\n",
    "print(num_2)\n",
    "print(num_2.shape)\n",
    "print(num_2.ndim)"
   ]
  },
  {
   "cell_type": "markdown",
   "metadata": {},
   "source": [
    "### 2 -Dimensional Numpy arrays"
   ]
  },
  {
   "cell_type": "code",
   "execution_count": 26,
   "metadata": {},
   "outputs": [
    {
     "name": "stdout",
     "output_type": "stream",
     "text": [
      "[[0.95554917 0.86654613 0.97689926 0.44798845]\n",
      " [0.73525477 0.94047623 0.36605561 0.24899611]\n",
      " [0.398848   0.38254062 0.43675949 0.89650846]]\n",
      "(3, 4)\n",
      "2\n",
      "12\n"
     ]
    }
   ],
   "source": [
    "# decleration of 2d- numpy array\n",
    "arr_2d = np.random.rand(3,4) \n",
    "\n",
    "print(arr_2d)\n",
    "print(arr_2d.shape)\n",
    "print(arr_2d.ndim)\n",
    "print(arr_2d.size)"
   ]
  },
  {
   "cell_type": "code",
   "execution_count": 27,
   "metadata": {},
   "outputs": [
    {
     "name": "stdout",
     "output_type": "stream",
     "text": [
      "(2, 4)\n",
      "[[1 3 5 4]\n",
      " [2 4 6 8]]\n",
      "2\n",
      "8\n"
     ]
    }
   ],
   "source": [
    "arr_2d_ex2 = np.array([[1, 3, 5, 4],\n",
    "                       [2, 4, 6, 8]])\n",
    "\n",
    "print(arr_2d_ex2.shape)\n",
    "print(arr_2d_ex2)\n",
    "print(arr_2d_ex2.ndim)\n",
    "print(arr_2d_ex2.size)"
   ]
  },
  {
   "cell_type": "code",
   "execution_count": 29,
   "metadata": {},
   "outputs": [
    {
     "name": "stdout",
     "output_type": "stream",
     "text": [
      "(2, 1, 1)\n",
      "3\n"
     ]
    }
   ],
   "source": [
    "arr_3d =np.array([[[1]], \n",
    "                  [[2]]])\n",
    "print(arr_3d.shape)\n",
    "print(arr_3d.ndim)"
   ]
  },
  {
   "cell_type": "code",
   "execution_count": null,
   "metadata": {},
   "outputs": [],
   "source": []
  }
 ],
 "metadata": {
  "kernelspec": {
   "display_name": "Python 3",
   "language": "python",
   "name": "python3"
  },
  "language_info": {
   "codemirror_mode": {
    "name": "ipython",
    "version": 3
   },
   "file_extension": ".py",
   "mimetype": "text/x-python",
   "name": "python",
   "nbconvert_exporter": "python",
   "pygments_lexer": "ipython3",
   "version": "3.6.5"
  }
 },
 "nbformat": 4,
 "nbformat_minor": 2
}
